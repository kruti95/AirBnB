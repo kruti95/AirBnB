{
 "cells": [
  {
   "cell_type": "markdown",
   "id": "b5383113",
   "metadata": {},
   "source": [
    "## 1. Load the Data"
   ]
  },
  {
   "cell_type": "code",
   "execution_count": 4,
   "id": "dd5a6fd1",
   "metadata": {},
   "outputs": [],
   "source": [
    "import pandas as pd\n",
    "df = pd.read_csv('neighbourhoods.csv')"
   ]
  },
  {
   "cell_type": "markdown",
   "id": "1ac3d64d",
   "metadata": {},
   "source": [
    "## 2. Initial Inspection"
   ]
  },
  {
   "cell_type": "code",
   "execution_count": 5,
   "id": "e2eef6c3",
   "metadata": {},
   "outputs": [
    {
     "name": "stdout",
     "output_type": "stream",
     "text": [
      "<class 'pandas.core.frame.DataFrame'>\n",
      "RangeIndex: 16 entries, 0 to 15\n",
      "Data columns (total 2 columns):\n",
      " #   Column               Non-Null Count  Dtype  \n",
      "---  ------               --------------  -----  \n",
      " 0   neighbourhood_group  0 non-null      float64\n",
      " 1   neighbourhood        15 non-null     object \n",
      "dtypes: float64(1), object(1)\n",
      "memory usage: 388.0+ bytes\n"
     ]
    },
    {
     "data": {
      "text/plain": [
       "Index(['neighbourhood_group', 'neighbourhood'], dtype='object')"
      ]
     },
     "execution_count": 5,
     "metadata": {},
     "output_type": "execute_result"
    }
   ],
   "source": [
    "df.info()\n",
    "df.describe()\n",
    "df.head()\n",
    "df.columns"
   ]
  },
  {
   "cell_type": "markdown",
   "id": "0eceff17",
   "metadata": {},
   "source": [
    "## 3. Dropping null columns"
   ]
  },
  {
   "cell_type": "code",
   "execution_count": 6,
   "id": "d706dfac",
   "metadata": {},
   "outputs": [],
   "source": [
    "df.drop(columns=['neighbourhood_group'], inplace=True)"
   ]
  },
  {
   "cell_type": "markdown",
   "id": "e46ca6f2",
   "metadata": {},
   "source": [
    "## 4. Dropping Missing Values"
   ]
  },
  {
   "cell_type": "code",
   "execution_count": 7,
   "id": "12aeedb1",
   "metadata": {},
   "outputs": [],
   "source": [
    "df.dropna(subset=['neighbourhood'], inplace=True)"
   ]
  },
  {
   "cell_type": "markdown",
   "id": "d7430f73",
   "metadata": {},
   "source": [
    "## 5. Cleaning the Values"
   ]
  },
  {
   "cell_type": "code",
   "execution_count": 8,
   "id": "17a31293",
   "metadata": {},
   "outputs": [],
   "source": [
    "df['neighbourhood'] = df['neighbourhood'].str.strip().str.lower()"
   ]
  },
  {
   "cell_type": "markdown",
   "id": "24bfb5fe",
   "metadata": {},
   "source": [
    "## 6. Dropping the Duplicates"
   ]
  },
  {
   "cell_type": "code",
   "execution_count": 9,
   "id": "adbc1200",
   "metadata": {},
   "outputs": [],
   "source": [
    "df.drop_duplicates(inplace=True)"
   ]
  },
  {
   "cell_type": "markdown",
   "id": "4cbdd337",
   "metadata": {},
   "source": [
    "## 7. Saving the clean version data"
   ]
  },
  {
   "cell_type": "code",
   "execution_count": 10,
   "id": "732e59b1",
   "metadata": {},
   "outputs": [],
   "source": [
    "df.to_csv(\"cleaned_neighbourhoods.csv\", index=False)"
   ]
  },
  {
   "cell_type": "code",
   "execution_count": 11,
   "id": "306cadae",
   "metadata": {},
   "outputs": [
    {
     "name": "stdout",
     "output_type": "stream",
     "text": [
      "    neighbourhood\n",
      "0     eighth ward\n",
      "1   eleventh ward\n",
      "2  fifteenth ward\n",
      "3      fifth ward\n",
      "4      first ward\n"
     ]
    }
   ],
   "source": [
    "print(df.head())"
   ]
  },
  {
   "cell_type": "code",
   "execution_count": null,
   "id": "e7e84003",
   "metadata": {},
   "outputs": [],
   "source": []
  }
 ],
 "metadata": {
  "kernelspec": {
   "display_name": "Python 3 (ipykernel)",
   "language": "python",
   "name": "python3"
  },
  "language_info": {
   "codemirror_mode": {
    "name": "ipython",
    "version": 3
   },
   "file_extension": ".py",
   "mimetype": "text/x-python",
   "name": "python",
   "nbconvert_exporter": "python",
   "pygments_lexer": "ipython3",
   "version": "3.11.5"
  }
 },
 "nbformat": 4,
 "nbformat_minor": 5
}
