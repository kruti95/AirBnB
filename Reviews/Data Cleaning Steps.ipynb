{
 "cells": [
  {
   "cell_type": "markdown",
   "id": "94ddbbe9",
   "metadata": {},
   "source": [
    "## 1. Load the Data"
   ]
  },
  {
   "cell_type": "code",
   "execution_count": 1,
   "id": "4d5dfb06",
   "metadata": {},
   "outputs": [],
   "source": [
    "import pandas as pd\n",
    "df = pd.read_csv('reviews.csv')"
   ]
  },
  {
   "cell_type": "markdown",
   "id": "925dfacf",
   "metadata": {},
   "source": [
    "## 2. Initial Inspection"
   ]
  },
  {
   "cell_type": "code",
   "execution_count": 2,
   "id": "77cbbd5e",
   "metadata": {},
   "outputs": [
    {
     "name": "stdout",
     "output_type": "stream",
     "text": [
      "<class 'pandas.core.frame.DataFrame'>\n",
      "RangeIndex: 25991 entries, 0 to 25990\n",
      "Data columns (total 2 columns):\n",
      " #   Column      Non-Null Count  Dtype \n",
      "---  ------      --------------  ----- \n",
      " 0   listing_id  25991 non-null  int64 \n",
      " 1   date        25991 non-null  object\n",
      "dtypes: int64(1), object(1)\n",
      "memory usage: 406.2+ KB\n"
     ]
    },
    {
     "data": {
      "text/plain": [
       "Index(['listing_id', 'date'], dtype='object')"
      ]
     },
     "execution_count": 2,
     "metadata": {},
     "output_type": "execute_result"
    }
   ],
   "source": [
    "df.info()\n",
    "df.describe()\n",
    "df.head()\n",
    "df.columns"
   ]
  },
  {
   "cell_type": "markdown",
   "id": "959e5afd",
   "metadata": {},
   "source": [
    "## 3. Convert Date to Datetime"
   ]
  },
  {
   "cell_type": "code",
   "execution_count": 3,
   "id": "fd89a971",
   "metadata": {},
   "outputs": [],
   "source": [
    "df['date'] = pd.to_datetime(df['date'], errors='coerce')"
   ]
  },
  {
   "cell_type": "markdown",
   "id": "a7917b17",
   "metadata": {},
   "source": [
    "## 4. Check for Invalid or Missing Data"
   ]
  },
  {
   "cell_type": "code",
   "execution_count": 5,
   "id": "35813699",
   "metadata": {},
   "outputs": [
    {
     "name": "stdout",
     "output_type": "stream",
     "text": [
      "0\n"
     ]
    }
   ],
   "source": [
    "print(df['date'].isnull().sum())"
   ]
  },
  {
   "cell_type": "markdown",
   "id": "51280109",
   "metadata": {},
   "source": [
    "## 5. Check for Duplicates"
   ]
  },
  {
   "cell_type": "code",
   "execution_count": 6,
   "id": "405c98a9",
   "metadata": {},
   "outputs": [],
   "source": [
    "df.duplicated().sum()\n",
    "df.drop_duplicates(inplace=True) "
   ]
  },
  {
   "cell_type": "markdown",
   "id": "108520b3",
   "metadata": {},
   "source": [
    "## 6. Sort Values by Date"
   ]
  },
  {
   "cell_type": "code",
   "execution_count": 7,
   "id": "8f3c2a46",
   "metadata": {},
   "outputs": [],
   "source": [
    "df.sort_values(by='date', inplace=True)"
   ]
  },
  {
   "cell_type": "markdown",
   "id": "ed381184",
   "metadata": {},
   "source": [
    "## 7. Filter out Unrealistic Dates"
   ]
  },
  {
   "cell_type": "code",
   "execution_count": 8,
   "id": "7ca0c2d7",
   "metadata": {},
   "outputs": [],
   "source": [
    "df = df[(df['date'].dt.year >= 2023) & (df['date'].dt.year <= 2025)]"
   ]
  },
  {
   "cell_type": "markdown",
   "id": "3cab92e5",
   "metadata": {},
   "source": [
    "## 8. Saved the cleaned Data"
   ]
  },
  {
   "cell_type": "code",
   "execution_count": 9,
   "id": "296bca9e",
   "metadata": {},
   "outputs": [],
   "source": [
    "df.to_csv(\"cleaned_calendar.csv\", index=False)"
   ]
  },
  {
   "cell_type": "code",
   "execution_count": null,
   "id": "2ceb7ce9",
   "metadata": {},
   "outputs": [],
   "source": []
  }
 ],
 "metadata": {
  "kernelspec": {
   "display_name": "Python 3 (ipykernel)",
   "language": "python",
   "name": "python3"
  },
  "language_info": {
   "codemirror_mode": {
    "name": "ipython",
    "version": 3
   },
   "file_extension": ".py",
   "mimetype": "text/x-python",
   "name": "python",
   "nbconvert_exporter": "python",
   "pygments_lexer": "ipython3",
   "version": "3.11.5"
  }
 },
 "nbformat": 4,
 "nbformat_minor": 5
}
