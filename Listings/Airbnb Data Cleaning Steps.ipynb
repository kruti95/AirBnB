{
 "cells": [
  {
   "cell_type": "markdown",
   "id": "506c2c2c",
   "metadata": {},
   "source": [
    "# SUMMARY OF FIXES:"
   ]
  },
  {
   "cell_type": "markdown",
   "id": "4d055e69",
   "metadata": {},
   "source": [
    "## - Removed \"neighbourhood_group\" (all nulls)"
   ]
  },
  {
   "cell_type": "markdown",
   "id": "3bd865cd",
   "metadata": {},
   "source": [
    "## - Converted \"last_review\" to datetime"
   ]
  },
  {
   "cell_type": "markdown",
   "id": "77ceb458",
   "metadata": {},
   "source": [
    "## - Filled missing values in \"price\", \"reviews_per_month\", and names"
   ]
  },
  {
   "cell_type": "markdown",
   "id": "e83008da",
   "metadata": {},
   "source": [
    "## - Cleaned text in \"neighbourhood\""
   ]
  },
  {
   "cell_type": "markdown",
   "id": "a1ca6ce1",
   "metadata": {},
   "source": [
    "## - Filtered unrealistic \"price\" and \"minimum_nights\""
   ]
  },
  {
   "cell_type": "markdown",
   "id": "e8c429af",
   "metadata": {},
   "source": [
    "## 1. Load the Data"
   ]
  },
  {
   "cell_type": "code",
   "execution_count": 1,
   "id": "0f8ec115",
   "metadata": {},
   "outputs": [],
   "source": [
    "import pandas as pd\n",
    "\n",
    "df = pd.read_csv('listings.csv')"
   ]
  },
  {
   "cell_type": "markdown",
   "id": "f839fa29",
   "metadata": {},
   "source": [
    "## 2. Initial Inspection"
   ]
  },
  {
   "cell_type": "code",
   "execution_count": 7,
   "id": "fc2316aa",
   "metadata": {},
   "outputs": [
    {
     "name": "stdout",
     "output_type": "stream",
     "text": [
      "<class 'pandas.core.frame.DataFrame'>\n",
      "RangeIndex: 447 entries, 0 to 446\n",
      "Data columns (total 17 columns):\n",
      " #   Column                          Non-Null Count  Dtype  \n",
      "---  ------                          --------------  -----  \n",
      " 0   id                              447 non-null    int64  \n",
      " 1   name                            447 non-null    object \n",
      " 2   host_id                         447 non-null    int64  \n",
      " 3   host_name                       447 non-null    object \n",
      " 4   neighbourhood_group             0 non-null      float64\n",
      " 5   neighbourhood                   447 non-null    object \n",
      " 6   latitude                        447 non-null    float64\n",
      " 7   longitude                       447 non-null    float64\n",
      " 8   room_type                       447 non-null    object \n",
      " 9   price                           415 non-null    float64\n",
      " 10  minimum_nights                  447 non-null    int64  \n",
      " 11  number_of_reviews               447 non-null    int64  \n",
      " 12  last_review                     380 non-null    object \n",
      " 13  reviews_per_month               380 non-null    float64\n",
      " 14  calculated_host_listings_count  447 non-null    int64  \n",
      " 15  availability_365                447 non-null    int64  \n",
      " 16  number_of_reviews_ltm           447 non-null    int64  \n",
      "dtypes: float64(5), int64(7), object(5)\n",
      "memory usage: 59.5+ KB\n"
     ]
    },
    {
     "data": {
      "text/plain": [
       "Index(['id', 'name', 'host_id', 'host_name', 'neighbourhood_group',\n",
       "       'neighbourhood', 'latitude', 'longitude', 'room_type', 'price',\n",
       "       'minimum_nights', 'number_of_reviews', 'last_review',\n",
       "       'reviews_per_month', 'calculated_host_listings_count',\n",
       "       'availability_365', 'number_of_reviews_ltm'],\n",
       "      dtype='object')"
      ]
     },
     "execution_count": 7,
     "metadata": {},
     "output_type": "execute_result"
    }
   ],
   "source": [
    "df.info()\n",
    "df.describe()\n",
    "df.head()\n",
    "df.columns"
   ]
  },
  {
   "cell_type": "markdown",
   "id": "effceaa2",
   "metadata": {},
   "source": [
    "## 3. Drop Unnecessary Columns"
   ]
  },
  {
   "cell_type": "code",
   "execution_count": 13,
   "id": "475cab8e",
   "metadata": {},
   "outputs": [],
   "source": [
    "df.drop(columns=['neighbourhood_group'], inplace=True)"
   ]
  },
  {
   "cell_type": "markdown",
   "id": "296cb731",
   "metadata": {},
   "source": [
    "## 4. Handle Missing Values"
   ]
  },
  {
   "cell_type": "code",
   "execution_count": 14,
   "id": "91137305",
   "metadata": {},
   "outputs": [],
   "source": [
    "df['name'].fillna('No Name', inplace=True)\n",
    "df['host_name'].fillna('Unknown Host', inplace=True)\n",
    "df['price'].fillna(df['price'].median(), inplace=True)\n",
    "df['reviews_per_month'].fillna(0, inplace=True)\n",
    "df['last_review'] = pd.to_datetime(df['last_review'], errors='coerce')"
   ]
  },
  {
   "cell_type": "markdown",
   "id": "422ed74c",
   "metadata": {},
   "source": [
    "## 5. Fix Data Types"
   ]
  },
  {
   "cell_type": "code",
   "execution_count": 16,
   "id": "25cedaf6",
   "metadata": {},
   "outputs": [],
   "source": [
    "df['room_type'] = df['room_type'].astype('category')\n",
    "df['neighbourhood'] = df['neighbourhood'].str.strip().str.lower()"
   ]
  },
  {
   "cell_type": "markdown",
   "id": "f98572df",
   "metadata": {},
   "source": [
    "## 6. Remove Duplicates"
   ]
  },
  {
   "cell_type": "code",
   "execution_count": 18,
   "id": "43086ce0",
   "metadata": {},
   "outputs": [],
   "source": [
    "df.drop_duplicates(subset='id', inplace=True)"
   ]
  },
  {
   "cell_type": "markdown",
   "id": "7d625254",
   "metadata": {},
   "source": [
    "## 7. Handle Outliers"
   ]
  },
  {
   "cell_type": "code",
   "execution_count": 19,
   "id": "dc5c613e",
   "metadata": {},
   "outputs": [],
   "source": [
    "df = df[(df['price'] > 0) & (df['price'] < 1000)]\n",
    "df = df[df['minimum_nights'] < 365]"
   ]
  },
  {
   "cell_type": "markdown",
   "id": "70325594",
   "metadata": {},
   "source": [
    "## 8. Feature engineering (example: price per review)"
   ]
  },
  {
   "cell_type": "code",
   "execution_count": 20,
   "id": "74587d79",
   "metadata": {},
   "outputs": [],
   "source": [
    "df['price_per_review'] = df['price'] / (df['number_of_reviews'] + 1)"
   ]
  },
  {
   "cell_type": "markdown",
   "id": "8e333114",
   "metadata": {},
   "source": [
    "## 9. Save Cleaned Data"
   ]
  },
  {
   "cell_type": "code",
   "execution_count": 21,
   "id": "4f7497e2",
   "metadata": {},
   "outputs": [],
   "source": [
    "df.to_csv('cleaned_listings.csv', index=False)"
   ]
  },
  {
   "cell_type": "code",
   "execution_count": null,
   "id": "32102d12",
   "metadata": {},
   "outputs": [],
   "source": []
  }
 ],
 "metadata": {
  "kernelspec": {
   "display_name": "Python 3 (ipykernel)",
   "language": "python",
   "name": "python3"
  },
  "language_info": {
   "codemirror_mode": {
    "name": "ipython",
    "version": 3
   },
   "file_extension": ".py",
   "mimetype": "text/x-python",
   "name": "python",
   "nbconvert_exporter": "python",
   "pygments_lexer": "ipython3",
   "version": "3.11.5"
  }
 },
 "nbformat": 4,
 "nbformat_minor": 5
}
